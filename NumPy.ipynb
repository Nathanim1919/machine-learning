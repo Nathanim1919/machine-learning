{
 "cells": [
  {
   "cell_type": "code",
   "execution_count": 3,
   "id": "initial_id",
   "metadata": {
    "collapsed": true,
    "ExecuteTime": {
     "end_time": "2024-02-27T19:47:01.233314Z",
     "start_time": "2024-02-27T19:47:00.997993300Z"
    }
   },
   "outputs": [
    {
     "name": "stdout",
     "output_type": "stream",
     "text": [
      "array([1, 2, 3, 4, 5])\n"
     ]
    }
   ],
   "source": [
    "import numpy as np\n",
    "arr = np.array([1, 2, 3, 4, 5])\n",
    "print(repr(arr))"
   ]
  },
  {
   "cell_type": "code",
   "outputs": [
    {
     "name": "stdout",
     "output_type": "stream",
     "text": [
      "array([23.34,  1.  ,  2.  ,  3.  ,  4.  ,  5.  ])\n"
     ]
    }
   ],
   "source": [
    "import numpy as np\n",
    "arr = np.array([23.34, 1, 2, 3, 4, 5])\n",
    "print(repr(arr))"
   ],
   "metadata": {
    "collapsed": false,
    "ExecuteTime": {
     "end_time": "2024-02-27T19:51:12.142896900Z",
     "start_time": "2024-02-27T19:51:12.101463700Z"
    }
   },
   "id": "ac1365e2868437b9",
   "execution_count": 9
  },
  {
   "cell_type": "markdown",
   "source": [
    "When the elements of a NumPy array are mixed types, then the array's type will be upcast to the highest level type. This means that if an array input has mixed int and float elements, all the integers will be cast to their floating-point equivalents. If an array is mixed with int, float, and string elements, everything is cast to strings."
   ],
   "metadata": {
    "collapsed": false
   },
   "id": "2448a73dc0f2d351"
  },
  {
   "cell_type": "code",
   "outputs": [
    {
     "name": "stdout",
     "output_type": "stream",
     "text": [
      "array([1, 2, 3, 4])\n",
      "array([100,   2,   3,   4])\n",
      "array([200,  12,  13,  14])\n"
     ]
    }
   ],
   "source": [
    "# Copy\n",
    "import numpy as np\n",
    "a = np.array([1,2,3,4])\n",
    "b = np.array([11,12,13,14])\n",
    "c = a\n",
    "print(repr(a))\n",
    "c[0] = 100\n",
    "print(repr(a))\n",
    "\n",
    "d = b.copy()\n",
    "d[0] = 200\n",
    "print(repr(b))"
   ],
   "metadata": {
    "collapsed": false,
    "ExecuteTime": {
     "end_time": "2024-02-27T19:56:59.699067200Z",
     "start_time": "2024-02-27T19:56:59.650073900Z"
    }
   },
   "id": "2d2d554e9511f271",
   "execution_count": 15
  },
  {
   "cell_type": "markdown",
   "source": [
    "In the code example below, c is a reference to a while d is a copy. Therefore, changing c leads to the same change in a, while changing d does not change the value of b."
   ],
   "metadata": {
    "collapsed": false
   },
   "id": "f418bdbadd0b5bd1"
  }
 ],
 "metadata": {
  "kernelspec": {
   "display_name": "Python 3",
   "language": "python",
   "name": "python3"
  },
  "language_info": {
   "codemirror_mode": {
    "name": "ipython",
    "version": 2
   },
   "file_extension": ".py",
   "mimetype": "text/x-python",
   "name": "python",
   "nbconvert_exporter": "python",
   "pygments_lexer": "ipython2",
   "version": "2.7.6"
  }
 },
 "nbformat": 4,
 "nbformat_minor": 5
}
